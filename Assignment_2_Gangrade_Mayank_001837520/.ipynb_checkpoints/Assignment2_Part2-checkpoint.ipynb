{
 "cells": [
  {
   "cell_type": "markdown",
   "metadata": {},
   "source": [
    "### Linear Regression"
   ]
  },
  {
   "cell_type": "markdown",
   "metadata": {},
   "source": [
    "The aim of this process is to build a linear regression model in order to predict the prices of house based on certain features."
   ]
  },
  {
   "cell_type": "code",
   "execution_count": 1,
   "metadata": {},
   "outputs": [
    {
     "name": "stderr",
     "output_type": "stream",
     "text": [
      "C:\\Anaconda3\\lib\\site-packages\\statsmodels\\compat\\pandas.py:56: FutureWarning: The pandas.core.datetools module is deprecated and will be removed in a future version. Please use the pandas.tseries module instead.\n",
      "  from pandas.core import datetools\n"
     ]
    }
   ],
   "source": [
    "from __future__ import print_function\n",
    "%matplotlib inline\n",
    "import pandas as pd\n",
    "import matplotlib.pyplot as plt\n",
    "import numpy as np\n",
    "from scipy import stats\n",
    "import seaborn as sns\n",
    "import statsmodels.api as sm\n",
    "from sklearn import linear_model\n",
    "from statsmodels.formula.api import ols\n",
    "from sklearn.linear_model import LinearRegression, Ridge, Lasso\n",
    "from sklearn.preprocessing import PolynomialFeatures\n",
    "from sklearn.pipeline import make_pipeline\n",
    "import warnings\n",
    "warnings.filterwarnings('ignore')"
   ]
  },
  {
   "cell_type": "code",
   "execution_count": 2,
   "metadata": {},
   "outputs": [
    {
     "data": {
      "text/html": [
       "<div>\n",
       "<style>\n",
       "    .dataframe thead tr:only-child th {\n",
       "        text-align: right;\n",
       "    }\n",
       "\n",
       "    .dataframe thead th {\n",
       "        text-align: left;\n",
       "    }\n",
       "\n",
       "    .dataframe tbody tr th {\n",
       "        vertical-align: top;\n",
       "    }\n",
       "</style>\n",
       "<table border=\"1\" class=\"dataframe\">\n",
       "  <thead>\n",
       "    <tr style=\"text-align: right;\">\n",
       "      <th></th>\n",
       "      <th>Unnamed: 0</th>\n",
       "      <th>price</th>\n",
       "      <th>lotsize</th>\n",
       "      <th>bedrooms</th>\n",
       "      <th>bathrms</th>\n",
       "      <th>stories</th>\n",
       "      <th>driveway</th>\n",
       "      <th>recroom</th>\n",
       "      <th>fullbase</th>\n",
       "      <th>gashw</th>\n",
       "      <th>airco</th>\n",
       "      <th>garagepl</th>\n",
       "      <th>prefarea</th>\n",
       "    </tr>\n",
       "  </thead>\n",
       "  <tbody>\n",
       "    <tr>\n",
       "      <th>0</th>\n",
       "      <td>1</td>\n",
       "      <td>42000.0</td>\n",
       "      <td>5850</td>\n",
       "      <td>3</td>\n",
       "      <td>1</td>\n",
       "      <td>2</td>\n",
       "      <td>yes</td>\n",
       "      <td>no</td>\n",
       "      <td>yes</td>\n",
       "      <td>no</td>\n",
       "      <td>no</td>\n",
       "      <td>1</td>\n",
       "      <td>no</td>\n",
       "    </tr>\n",
       "    <tr>\n",
       "      <th>1</th>\n",
       "      <td>2</td>\n",
       "      <td>38500.0</td>\n",
       "      <td>4000</td>\n",
       "      <td>2</td>\n",
       "      <td>1</td>\n",
       "      <td>1</td>\n",
       "      <td>yes</td>\n",
       "      <td>no</td>\n",
       "      <td>no</td>\n",
       "      <td>no</td>\n",
       "      <td>no</td>\n",
       "      <td>0</td>\n",
       "      <td>no</td>\n",
       "    </tr>\n",
       "    <tr>\n",
       "      <th>2</th>\n",
       "      <td>3</td>\n",
       "      <td>49500.0</td>\n",
       "      <td>3060</td>\n",
       "      <td>3</td>\n",
       "      <td>1</td>\n",
       "      <td>1</td>\n",
       "      <td>yes</td>\n",
       "      <td>no</td>\n",
       "      <td>no</td>\n",
       "      <td>no</td>\n",
       "      <td>no</td>\n",
       "      <td>0</td>\n",
       "      <td>no</td>\n",
       "    </tr>\n",
       "    <tr>\n",
       "      <th>3</th>\n",
       "      <td>4</td>\n",
       "      <td>60500.0</td>\n",
       "      <td>6650</td>\n",
       "      <td>3</td>\n",
       "      <td>1</td>\n",
       "      <td>2</td>\n",
       "      <td>yes</td>\n",
       "      <td>yes</td>\n",
       "      <td>no</td>\n",
       "      <td>no</td>\n",
       "      <td>no</td>\n",
       "      <td>0</td>\n",
       "      <td>no</td>\n",
       "    </tr>\n",
       "    <tr>\n",
       "      <th>4</th>\n",
       "      <td>5</td>\n",
       "      <td>61000.0</td>\n",
       "      <td>6360</td>\n",
       "      <td>2</td>\n",
       "      <td>1</td>\n",
       "      <td>1</td>\n",
       "      <td>yes</td>\n",
       "      <td>no</td>\n",
       "      <td>no</td>\n",
       "      <td>no</td>\n",
       "      <td>no</td>\n",
       "      <td>0</td>\n",
       "      <td>no</td>\n",
       "    </tr>\n",
       "  </tbody>\n",
       "</table>\n",
       "</div>"
      ],
      "text/plain": [
       "   Unnamed: 0    price  lotsize  bedrooms  bathrms  stories driveway recroom  \\\n",
       "0           1  42000.0     5850         3        1        2      yes      no   \n",
       "1           2  38500.0     4000         2        1        1      yes      no   \n",
       "2           3  49500.0     3060         3        1        1      yes      no   \n",
       "3           4  60500.0     6650         3        1        2      yes     yes   \n",
       "4           5  61000.0     6360         2        1        1      yes      no   \n",
       "\n",
       "  fullbase gashw airco  garagepl prefarea  \n",
       "0      yes    no    no         1       no  \n",
       "1       no    no    no         0       no  \n",
       "2       no    no    no         0       no  \n",
       "3       no    no    no         0       no  \n",
       "4       no    no    no         0       no  "
      ]
     },
     "execution_count": 2,
     "metadata": {},
     "output_type": "execute_result"
    }
   ],
   "source": [
    "# Load the data into a pandas dataframe\n",
    "df = pd.read_csv('Housing.csv')\n",
    "df.head()"
   ]
  },
  {
   "cell_type": "code",
   "execution_count": 3,
   "metadata": {},
   "outputs": [
    {
     "name": "stdout",
     "output_type": "stream",
     "text": [
      "(546, 13)\n"
     ]
    },
    {
     "data": {
      "text/html": [
       "<div>\n",
       "<style>\n",
       "    .dataframe thead tr:only-child th {\n",
       "        text-align: right;\n",
       "    }\n",
       "\n",
       "    .dataframe thead th {\n",
       "        text-align: left;\n",
       "    }\n",
       "\n",
       "    .dataframe tbody tr th {\n",
       "        vertical-align: top;\n",
       "    }\n",
       "</style>\n",
       "<table border=\"1\" class=\"dataframe\">\n",
       "  <thead>\n",
       "    <tr style=\"text-align: right;\">\n",
       "      <th></th>\n",
       "      <th>Unnamed: 0</th>\n",
       "      <th>price</th>\n",
       "      <th>lotsize</th>\n",
       "      <th>bedrooms</th>\n",
       "      <th>bathrms</th>\n",
       "      <th>stories</th>\n",
       "      <th>garagepl</th>\n",
       "    </tr>\n",
       "  </thead>\n",
       "  <tbody>\n",
       "    <tr>\n",
       "      <th>count</th>\n",
       "      <td>546.000000</td>\n",
       "      <td>546.000000</td>\n",
       "      <td>546.000000</td>\n",
       "      <td>546.000000</td>\n",
       "      <td>546.000000</td>\n",
       "      <td>546.000000</td>\n",
       "      <td>546.000000</td>\n",
       "    </tr>\n",
       "    <tr>\n",
       "      <th>mean</th>\n",
       "      <td>273.500000</td>\n",
       "      <td>68121.597070</td>\n",
       "      <td>5150.265568</td>\n",
       "      <td>2.965201</td>\n",
       "      <td>1.285714</td>\n",
       "      <td>1.807692</td>\n",
       "      <td>0.692308</td>\n",
       "    </tr>\n",
       "    <tr>\n",
       "      <th>std</th>\n",
       "      <td>157.760895</td>\n",
       "      <td>26702.670926</td>\n",
       "      <td>2168.158725</td>\n",
       "      <td>0.737388</td>\n",
       "      <td>0.502158</td>\n",
       "      <td>0.868203</td>\n",
       "      <td>0.861307</td>\n",
       "    </tr>\n",
       "    <tr>\n",
       "      <th>min</th>\n",
       "      <td>1.000000</td>\n",
       "      <td>25000.000000</td>\n",
       "      <td>1650.000000</td>\n",
       "      <td>1.000000</td>\n",
       "      <td>1.000000</td>\n",
       "      <td>1.000000</td>\n",
       "      <td>0.000000</td>\n",
       "    </tr>\n",
       "    <tr>\n",
       "      <th>25%</th>\n",
       "      <td>137.250000</td>\n",
       "      <td>49125.000000</td>\n",
       "      <td>3600.000000</td>\n",
       "      <td>2.000000</td>\n",
       "      <td>1.000000</td>\n",
       "      <td>1.000000</td>\n",
       "      <td>0.000000</td>\n",
       "    </tr>\n",
       "    <tr>\n",
       "      <th>50%</th>\n",
       "      <td>273.500000</td>\n",
       "      <td>62000.000000</td>\n",
       "      <td>4600.000000</td>\n",
       "      <td>3.000000</td>\n",
       "      <td>1.000000</td>\n",
       "      <td>2.000000</td>\n",
       "      <td>0.000000</td>\n",
       "    </tr>\n",
       "    <tr>\n",
       "      <th>75%</th>\n",
       "      <td>409.750000</td>\n",
       "      <td>82000.000000</td>\n",
       "      <td>6360.000000</td>\n",
       "      <td>3.000000</td>\n",
       "      <td>2.000000</td>\n",
       "      <td>2.000000</td>\n",
       "      <td>1.000000</td>\n",
       "    </tr>\n",
       "    <tr>\n",
       "      <th>max</th>\n",
       "      <td>546.000000</td>\n",
       "      <td>190000.000000</td>\n",
       "      <td>16200.000000</td>\n",
       "      <td>6.000000</td>\n",
       "      <td>4.000000</td>\n",
       "      <td>4.000000</td>\n",
       "      <td>3.000000</td>\n",
       "    </tr>\n",
       "  </tbody>\n",
       "</table>\n",
       "</div>"
      ],
      "text/plain": [
       "       Unnamed: 0          price       lotsize    bedrooms     bathrms  \\\n",
       "count  546.000000     546.000000    546.000000  546.000000  546.000000   \n",
       "mean   273.500000   68121.597070   5150.265568    2.965201    1.285714   \n",
       "std    157.760895   26702.670926   2168.158725    0.737388    0.502158   \n",
       "min      1.000000   25000.000000   1650.000000    1.000000    1.000000   \n",
       "25%    137.250000   49125.000000   3600.000000    2.000000    1.000000   \n",
       "50%    273.500000   62000.000000   4600.000000    3.000000    1.000000   \n",
       "75%    409.750000   82000.000000   6360.000000    3.000000    2.000000   \n",
       "max    546.000000  190000.000000  16200.000000    6.000000    4.000000   \n",
       "\n",
       "          stories    garagepl  \n",
       "count  546.000000  546.000000  \n",
       "mean     1.807692    0.692308  \n",
       "std      0.868203    0.861307  \n",
       "min      1.000000    0.000000  \n",
       "25%      1.000000    0.000000  \n",
       "50%      2.000000    0.000000  \n",
       "75%      2.000000    1.000000  \n",
       "max      4.000000    3.000000  "
      ]
     },
     "execution_count": 3,
     "metadata": {},
     "output_type": "execute_result"
    }
   ],
   "source": [
    "print(df.shape)\n",
    "df.describe()"
   ]
  },
  {
   "cell_type": "code",
   "execution_count": 4,
   "metadata": {},
   "outputs": [
    {
     "data": {
      "text/html": [
       "<div>\n",
       "<style>\n",
       "    .dataframe thead tr:only-child th {\n",
       "        text-align: right;\n",
       "    }\n",
       "\n",
       "    .dataframe thead th {\n",
       "        text-align: left;\n",
       "    }\n",
       "\n",
       "    .dataframe tbody tr th {\n",
       "        vertical-align: top;\n",
       "    }\n",
       "</style>\n",
       "<table border=\"1\" class=\"dataframe\">\n",
       "  <thead>\n",
       "    <tr style=\"text-align: right;\">\n",
       "      <th></th>\n",
       "      <th>Unnamed: 0</th>\n",
       "      <th>price</th>\n",
       "      <th>lotsize</th>\n",
       "      <th>bedrooms</th>\n",
       "      <th>bathrms</th>\n",
       "      <th>stories</th>\n",
       "      <th>driveway</th>\n",
       "      <th>recroom</th>\n",
       "      <th>fullbase</th>\n",
       "      <th>gashw</th>\n",
       "      <th>airco</th>\n",
       "      <th>garagepl</th>\n",
       "      <th>prefarea</th>\n",
       "    </tr>\n",
       "  </thead>\n",
       "  <tbody>\n",
       "    <tr>\n",
       "      <th>0</th>\n",
       "      <td>1</td>\n",
       "      <td>42000.0</td>\n",
       "      <td>5850</td>\n",
       "      <td>0</td>\n",
       "      <td>0</td>\n",
       "      <td>0</td>\n",
       "      <td>yes</td>\n",
       "      <td>no</td>\n",
       "      <td>yes</td>\n",
       "      <td>no</td>\n",
       "      <td>no</td>\n",
       "      <td>1</td>\n",
       "      <td>no</td>\n",
       "    </tr>\n",
       "    <tr>\n",
       "      <th>1</th>\n",
       "      <td>2</td>\n",
       "      <td>38500.0</td>\n",
       "      <td>4000</td>\n",
       "      <td>1</td>\n",
       "      <td>0</td>\n",
       "      <td>1</td>\n",
       "      <td>yes</td>\n",
       "      <td>no</td>\n",
       "      <td>no</td>\n",
       "      <td>no</td>\n",
       "      <td>no</td>\n",
       "      <td>0</td>\n",
       "      <td>no</td>\n",
       "    </tr>\n",
       "    <tr>\n",
       "      <th>2</th>\n",
       "      <td>3</td>\n",
       "      <td>49500.0</td>\n",
       "      <td>3060</td>\n",
       "      <td>0</td>\n",
       "      <td>0</td>\n",
       "      <td>1</td>\n",
       "      <td>yes</td>\n",
       "      <td>no</td>\n",
       "      <td>no</td>\n",
       "      <td>no</td>\n",
       "      <td>no</td>\n",
       "      <td>0</td>\n",
       "      <td>no</td>\n",
       "    </tr>\n",
       "  </tbody>\n",
       "</table>\n",
       "</div>"
      ],
      "text/plain": [
       "   Unnamed: 0    price  lotsize  bedrooms  bathrms  stories driveway recroom  \\\n",
       "0           1  42000.0     5850         0        0        0      yes      no   \n",
       "1           2  38500.0     4000         1        0        1      yes      no   \n",
       "2           3  49500.0     3060         0        0        1      yes      no   \n",
       "\n",
       "  fullbase gashw airco  garagepl prefarea  \n",
       "0      yes    no    no         1       no  \n",
       "1       no    no    no         0       no  \n",
       "2       no    no    no         0       no  "
      ]
     },
     "execution_count": 4,
     "metadata": {},
     "output_type": "execute_result"
    }
   ],
   "source": [
    "categorical_cols = ['bedrooms', 'bathrms', 'stories']\n",
    "for c in categorical_cols:\n",
    "    df[c] = pd.factorize(df[c])[0]\n",
    "df.head(3)"
   ]
  },
  {
   "cell_type": "code",
   "execution_count": 5,
   "metadata": {
    "scrolled": true
   },
   "outputs": [
    {
     "data": {
      "text/html": [
       "<div>\n",
       "<style>\n",
       "    .dataframe thead tr:only-child th {\n",
       "        text-align: right;\n",
       "    }\n",
       "\n",
       "    .dataframe thead th {\n",
       "        text-align: left;\n",
       "    }\n",
       "\n",
       "    .dataframe tbody tr th {\n",
       "        vertical-align: top;\n",
       "    }\n",
       "</style>\n",
       "<table border=\"1\" class=\"dataframe\">\n",
       "  <thead>\n",
       "    <tr style=\"text-align: right;\">\n",
       "      <th></th>\n",
       "      <th>Unnamed: 0</th>\n",
       "      <th>price</th>\n",
       "      <th>lotsize</th>\n",
       "      <th>bedrooms</th>\n",
       "      <th>bathrms</th>\n",
       "      <th>stories</th>\n",
       "      <th>garagepl</th>\n",
       "    </tr>\n",
       "  </thead>\n",
       "  <tbody>\n",
       "    <tr>\n",
       "      <th>Unnamed: 0</th>\n",
       "      <td>1.000000</td>\n",
       "      <td>0.376007</td>\n",
       "      <td>0.374338</td>\n",
       "      <td>-0.079786</td>\n",
       "      <td>0.108395</td>\n",
       "      <td>0.303122</td>\n",
       "      <td>0.125326</td>\n",
       "    </tr>\n",
       "    <tr>\n",
       "      <th>price</th>\n",
       "      <td>0.376007</td>\n",
       "      <td>1.000000</td>\n",
       "      <td>0.535796</td>\n",
       "      <td>0.060895</td>\n",
       "      <td>0.516719</td>\n",
       "      <td>0.266823</td>\n",
       "      <td>0.383302</td>\n",
       "    </tr>\n",
       "    <tr>\n",
       "      <th>lotsize</th>\n",
       "      <td>0.374338</td>\n",
       "      <td>0.535796</td>\n",
       "      <td>1.000000</td>\n",
       "      <td>0.033604</td>\n",
       "      <td>0.193833</td>\n",
       "      <td>0.204180</td>\n",
       "      <td>0.352872</td>\n",
       "    </tr>\n",
       "    <tr>\n",
       "      <th>bedrooms</th>\n",
       "      <td>-0.079786</td>\n",
       "      <td>0.060895</td>\n",
       "      <td>0.033604</td>\n",
       "      <td>1.000000</td>\n",
       "      <td>0.210409</td>\n",
       "      <td>-0.069144</td>\n",
       "      <td>0.012615</td>\n",
       "    </tr>\n",
       "    <tr>\n",
       "      <th>bathrms</th>\n",
       "      <td>0.108395</td>\n",
       "      <td>0.516719</td>\n",
       "      <td>0.193833</td>\n",
       "      <td>0.210409</td>\n",
       "      <td>1.000000</td>\n",
       "      <td>0.134213</td>\n",
       "      <td>0.178178</td>\n",
       "    </tr>\n",
       "    <tr>\n",
       "      <th>stories</th>\n",
       "      <td>0.303122</td>\n",
       "      <td>0.266823</td>\n",
       "      <td>0.204180</td>\n",
       "      <td>-0.069144</td>\n",
       "      <td>0.134213</td>\n",
       "      <td>1.000000</td>\n",
       "      <td>0.076215</td>\n",
       "    </tr>\n",
       "    <tr>\n",
       "      <th>garagepl</th>\n",
       "      <td>0.125326</td>\n",
       "      <td>0.383302</td>\n",
       "      <td>0.352872</td>\n",
       "      <td>0.012615</td>\n",
       "      <td>0.178178</td>\n",
       "      <td>0.076215</td>\n",
       "      <td>1.000000</td>\n",
       "    </tr>\n",
       "  </tbody>\n",
       "</table>\n",
       "</div>"
      ],
      "text/plain": [
       "            Unnamed: 0     price   lotsize  bedrooms   bathrms   stories  \\\n",
       "Unnamed: 0    1.000000  0.376007  0.374338 -0.079786  0.108395  0.303122   \n",
       "price         0.376007  1.000000  0.535796  0.060895  0.516719  0.266823   \n",
       "lotsize       0.374338  0.535796  1.000000  0.033604  0.193833  0.204180   \n",
       "bedrooms     -0.079786  0.060895  0.033604  1.000000  0.210409 -0.069144   \n",
       "bathrms       0.108395  0.516719  0.193833  0.210409  1.000000  0.134213   \n",
       "stories       0.303122  0.266823  0.204180 -0.069144  0.134213  1.000000   \n",
       "garagepl      0.125326  0.383302  0.352872  0.012615  0.178178  0.076215   \n",
       "\n",
       "            garagepl  \n",
       "Unnamed: 0  0.125326  \n",
       "price       0.383302  \n",
       "lotsize     0.352872  \n",
       "bedrooms    0.012615  \n",
       "bathrms     0.178178  \n",
       "stories     0.076215  \n",
       "garagepl    1.000000  "
      ]
     },
     "execution_count": 5,
     "metadata": {},
     "output_type": "execute_result"
    }
   ],
   "source": [
    "df.corr()"
   ]
  },
  {
   "cell_type": "code",
   "execution_count": 6,
   "metadata": {},
   "outputs": [
    {
     "data": {
      "image/png": "[encoded data removed]",
      "text/plain": [
       "<matplotlib.figure.Figure at 0x6396475e48>"
      ]
     },
     "metadata": {},
     "output_type": "display_data"
    }
   ],
   "source": [
    "X=df['lotsize']\n",
    "y=df['price']\n",
    "plt.scatter(X,y)\n",
    "plt.ylabel('price')\n",
    "plt.xlabel('lot size')\n",
    "plt.show()"
   ]
  },
  {
   "cell_type": "code",
   "execution_count": 7,
   "metadata": {
    "collapsed": true
   },
   "outputs": [],
   "source": [
    "X = df[[\"lotsize\",\"bedrooms\",\"bathrms\",\"stories\"]]\n",
    "y = df[[\"price\"]]"
   ]
  },
  {
   "cell_type": "code",
   "execution_count": 8,
   "metadata": {},
   "outputs": [
    {
     "name": "stdout",
     "output_type": "stream",
     "text": [
      "<class 'pandas.core.frame.DataFrame'> <class 'pandas.core.frame.DataFrame'>\n"
     ]
    }
   ],
   "source": [
    "print(type(X), type(y))"
   ]
  },
  {
   "cell_type": "code",
   "execution_count": 9,
   "metadata": {},
   "outputs": [
    {
     "name": "stdout",
     "output_type": "stream",
     "text": [
      "LinearRegression(copy_X=True, fit_intercept=True, n_jobs=1, normalize=False)\n"
     ]
    }
   ],
   "source": [
    "# Fit the linear model\n",
    "model = linear_model.LinearRegression()\n",
    "results = model.fit(X, y)\n",
    "print(results)"
   ]
  },
  {
   "cell_type": "code",
   "execution_count": 10,
   "metadata": {},
   "outputs": [
    {
     "name": "stdout",
     "output_type": "stream",
     "text": [
      "[ 32198.32827948] [[  5.29883556e+00  -9.88524749e+02   2.25761541e+04   3.64948172e+03]]\n"
     ]
    }
   ],
   "source": [
    "# Print the coefficients\n",
    "print (results.intercept_, results.coef_)"
   ]
  },
  {
   "cell_type": "code",
   "execution_count": 11,
   "metadata": {},
   "outputs": [
    {
     "data": {
      "text/html": [
       "<table class=\"simpletable\">\n",
       "<caption>OLS Regression Results</caption>\n",
       "<tr>\n",
       "  <th>Dep. Variable:</th>          <td>price</td>      <th>  R-squared:         </th> <td>   0.904</td> \n",
       "</tr>\n",
       "<tr>\n",
       "  <th>Model:</th>                   <td>OLS</td>       <th>  Adj. R-squared:    </th> <td>   0.904</td> \n",
       "</tr>\n",
       "<tr>\n",
       "  <th>Method:</th>             <td>Least Squares</td>  <th>  F-statistic:       </th> <td>   1282.</td> \n",
       "</tr>\n",
       "<tr>\n",
       "  <th>Date:</th>             <td>Fri, 16 Feb 2018</td> <th>  Prob (F-statistic):</th> <td>1.21e-274</td>\n",
       "</tr>\n",
       "<tr>\n",
       "  <th>Time:</th>                 <td>23:50:18</td>     <th>  Log-Likelihood:    </th> <td> -6249.2</td> \n",
       "</tr>\n",
       "<tr>\n",
       "  <th>No. Observations:</th>      <td>   546</td>      <th>  AIC:               </th> <td>1.251e+04</td>\n",
       "</tr>\n",
       "<tr>\n",
       "  <th>Df Residuals:</th>          <td>   542</td>      <th>  BIC:               </th> <td>1.252e+04</td>\n",
       "</tr>\n",
       "<tr>\n",
       "  <th>Df Model:</th>              <td>     4</td>      <th>                     </th>     <td> </td>    \n",
       "</tr>\n",
       "<tr>\n",
       "  <th>Covariance Type:</th>      <td>nonrobust</td>    <th>                     </th>     <td> </td>    \n",
       "</tr>\n",
       "</table>\n",
       "<table class=\"simpletable\">\n",
       "<tr>\n",
       "      <td></td>        <th>coef</th>     <th>std err</th>      <th>t</th>      <th>P>|t|</th>  <th>[0.025</th>    <th>0.975]</th>  \n",
       "</tr>\n",
       "<tr>\n",
       "  <th>lotsize</th>  <td>    9.8952</td> <td>    0.274</td> <td>   36.086</td> <td> 0.000</td> <td>    9.357</td> <td>   10.434</td>\n",
       "</tr>\n",
       "<tr>\n",
       "  <th>bedrooms</th> <td> 2421.4832</td> <td> 1032.079</td> <td>    2.346</td> <td> 0.019</td> <td>  394.119</td> <td> 4448.847</td>\n",
       "</tr>\n",
       "<tr>\n",
       "  <th>bathrms</th>  <td> 2.179e+04</td> <td> 2031.212</td> <td>   10.727</td> <td> 0.000</td> <td> 1.78e+04</td> <td> 2.58e+04</td>\n",
       "</tr>\n",
       "<tr>\n",
       "  <th>stories</th>  <td> 6158.7955</td> <td> 1128.091</td> <td>    5.459</td> <td> 0.000</td> <td> 3942.829</td> <td> 8374.762</td>\n",
       "</tr>\n",
       "</table>\n",
       "<table class=\"simpletable\">\n",
       "<tr>\n",
       "  <th>Omnibus:</th>       <td>22.756</td> <th>  Durbin-Watson:     </th> <td>   1.590</td>\n",
       "</tr>\n",
       "<tr>\n",
       "  <th>Prob(Omnibus):</th> <td> 0.000</td> <th>  Jarque-Bera (JB):  </th> <td>  56.170</td>\n",
       "</tr>\n",
       "<tr>\n",
       "  <th>Skew:</th>          <td>-0.117</td> <th>  Prob(JB):          </th> <td>6.35e-13</td>\n",
       "</tr>\n",
       "<tr>\n",
       "  <th>Kurtosis:</th>      <td> 4.554</td> <th>  Cond. No.          </th> <td>1.18e+04</td>\n",
       "</tr>\n",
       "</table>"
      ],
      "text/plain": [
       "<class 'statsmodels.iolib.summary.Summary'>\n",
       "\"\"\"\n",
       "                            OLS Regression Results                            \n",
       "==============================================================================\n",
       "Dep. Variable:                  price   R-squared:                       0.904\n",
       "Model:                            OLS   Adj. R-squared:                  0.904\n",
       "Method:                 Least Squares   F-statistic:                     1282.\n",
       "Date:                Fri, 16 Feb 2018   Prob (F-statistic):          1.21e-274\n",
       "Time:                        23:50:18   Log-Likelihood:                -6249.2\n",
       "No. Observations:                 546   AIC:                         1.251e+04\n",
       "Df Residuals:                     542   BIC:                         1.252e+04\n",
       "Df Model:                           4                                         \n",
       "Covariance Type:            nonrobust                                         \n",
       "==============================================================================\n",
       "                 coef    std err          t      P>|t|      [0.025      0.975]\n",
       "------------------------------------------------------------------------------\n",
       "lotsize        9.8952      0.274     36.086      0.000       9.357      10.434\n",
       "bedrooms    2421.4832   1032.079      2.346      0.019     394.119    4448.847\n",
       "bathrms     2.179e+04   2031.212     10.727      0.000    1.78e+04    2.58e+04\n",
       "stories     6158.7955   1128.091      5.459      0.000    3942.829    8374.762\n",
       "==============================================================================\n",
       "Omnibus:                       22.756   Durbin-Watson:                   1.590\n",
       "Prob(Omnibus):                  0.000   Jarque-Bera (JB):               56.170\n",
       "Skew:                          -0.117   Prob(JB):                     6.35e-13\n",
       "Kurtosis:                       4.554   Cond. No.                     1.18e+04\n",
       "==============================================================================\n",
       "\n",
       "Warnings:\n",
       "[1] Standard Errors assume that the covariance matrix of the errors is correctly specified.\n",
       "[2] The condition number is large, 1.18e+04. This might indicate that there are\n",
       "strong multicollinearity or other numerical problems.\n",
       "\"\"\""
      ]
     },
     "execution_count": 11,
     "metadata": {},
     "output_type": "execute_result"
    }
   ],
   "source": [
    "model = sm.OLS(y, X)\n",
    "results = model.fit()\n",
    "# Statsmodels gives R-like statistical output\n",
    "results.summary()\n",
    "# Here the Ordinalry Least Squares method has given us the r^2 value of 0.926 which is decent enough for our model to be \n",
    "# predicted on these variables."
   ]
  },
  {
   "cell_type": "code",
   "execution_count": 12,
   "metadata": {},
   "outputs": [
    {
     "name": "stdout",
     "output_type": "stream",
     "text": [
      "[  57887.08347881   48161.19040367   36438.1929816    65803.26583489\n",
      "   71513.92835409   47322.94372121   60181.59198407   53481.73919082\n",
      "   53655.88960607   94688.24766395   99192.5442314    38265.96245857\n",
      "   16821.88750666   34657.05195148   44203.09922563   40096.57962842\n",
      "   32654.25221882   68615.74256107   47561.78134122   69810.76476954\n",
      "   47348.66571728   71258.55189684   39580.91178038   47508.10535929\n",
      "   57660.60923096   32107.16698896   46182.14481465   57660.60923096\n",
      "   35844.4793049    44528.52575293   43213.57643112   39476.26411519\n",
      "   48161.19040367   53108.80437622   65355.13288449   53108.80437622\n",
      "   48477.83769791   69634.71488497   80065.30476797   61538.35420744\n",
      "   37057.62865438   44726.43031183   50756.8239726   138163.20349783\n",
      "   22211.93904387   21373.69236141   38661.77157638   30576.25435035\n",
      "   66240.88785425   33149.01361607   83918.74828082   51572.19635186\n",
      "   99279.93796803   39976.72089819   79495.8925549    44401.00378453\n",
      "   29907.34253784   99786.25790811   43539.00295842   23748.54706823\n",
      "   43189.82228747   55582.61136249   50931.8542283    47694.99869536\n",
      "   59266.72000538   54423.75369803   49871.94884328   67951.64629386\n",
      "   33318.34848603   40520.95843517   49101.23705845   31169.96802705\n",
      "   26747.91713048   24490.68916411   31763.68170376   37625.62033501\n",
      "   16327.12610941   36309.79117276   61835.21104579   71513.92835409\n",
      "   41955.76648721   40640.8171654    36117.5819996    32060.53854211\n",
      "   39825.44478614   64121.07708422   66467.3621021    59116.87105376\n",
      "   38265.96245857   39156.53297363   66123.87681689   85012.91874052\n",
      "   78265.55765996  124373.93149924   85815.38042763   75867.82864994\n",
      "   87794.42601665   87794.42601665   43213.57643112   36633.24984763\n",
      "   66316.63331003   76230.46733302   42747.38472281   61264.37167229\n",
      "   71185.08545902   54098.32717073   45390.52657904   58202.54639505\n",
      "   51473.79139239   45687.3834174    56386.97251891   53108.80437622\n",
      "   49476.13972548   46996.63735346   91345.86462538   41455.30970421\n",
      "   37206.05707356   61369.01933748   64337.58772101   77369.29175916\n",
      "   52119.28158171  130530.96728796   52119.28158171   47892.90325426\n",
      "   49348.61775708   68784.74491056  102551.77366697  108866.11347394\n",
      "   66910.34698674   67306.15610454   50314.38640794   38096.62758862\n",
      "   48486.61693097   44255.42305823   43364.85254317  104478.82794386\n",
      "   43242.14612007   84773.53380052   38167.01017912   37107.10479411\n",
      "   29685.68383529   26222.3540545    71159.59961739   53108.80437622\n",
      "   44528.52575293   46950.00890661   21522.12078058   78634.22424925\n",
      "   91288.72524749   50361.01485479   34138.53641058   29685.68383529\n",
      "   59832.41131312   35622.82060234   43265.90026372   74245.72635826\n",
      "   29220.60812187   53813.26502963   28536.34185012   39264.26448614\n",
      "   31288.71076239   64214.33397793   34953.90878984   42914.41921988\n",
      "   30873.1111887    46481.84934587   33742.72729278   33865.43371588\n",
      "   35139.07042792   30675.2066298    44499.95606398   25454.48996255\n",
      "   30204.19937619   48906.18019242   30041.91204131   57707.7849978\n",
      "   58277.19721087   60472.75343668   53254.93242251   41059.5005864\n",
      "   52218.23386116   39481.95950093   49104.08475132   34732.25008729\n",
      "   43527.61218694   36263.1627259    60533.07302791   39278.35955629\n",
      "   79620.967734     39080.45499739   35919.6774407    44499.95606398\n",
      "   34435.39324893   62184.39171674   40047.10348869   44549.43220371\n",
      "   45343.89813219   43044.24156117   47468.52444751   35325.96376399\n",
      "   41781.61607195   62568.81006306   40594.18871854   58097.89872986\n",
      "   41135.57856265   66211.98564484   23006.40497235   51624.52018445\n",
      "   43609.38554893   45343.89813219   34703.68039834   35297.39407504\n",
      "   32875.91092137   31466.8248654    39476.26411519   44499.95606398\n",
      "  107790.54909213   31169.96802705   42365.67067516   47049.8410265\n",
      "   30873.1111887    46846.24108186   41559.9573694    54505.93098579\n",
      "   49221.09578868   49494.74580337   46340.46846177   40096.57962842\n",
      "   62547.73584095   57905.6895567    51350.5376493    92088.00672126\n",
      "   38096.62758862   52707.29987267   32107.16698896   47906.99832441\n",
      "   40762.64374805   47730.23637073   38265.96245857   34528.65014264\n",
      "   54209.07414744   32107.16698896   53359.03276772   44687.96539494\n",
      "   39284.05494203   37375.39194351   43015.67187222   65456.93285681\n",
      "   43213.57643112   34138.53641058   40297.33188019   65199.58854712\n",
      "   73416.89596687   67306.15610454   47986.16014797   34138.53641058\n",
      "   92057.13665943   75886.43472783   44598.90834343   67951.64629386\n",
      "   58277.19721087   40861.5960275    44598.90834343   48556.99952147\n",
      "   44598.90834343   44598.90834343   64389.36423363   44203.09922563\n",
      "   44203.09922563   50677.66214904   57806.73727725   50908.10008465\n",
      "   49470.44433974   70938.82075528   36018.62972015   56204.89472814\n",
      "   68498.73152371   39580.91178038   39185.10266258   58975.55855277\n",
      "   66269.45754319   77318.395087     74676.13307121   75373.06725268\n",
      "   89057.05150586   25232.83125999   70770.67026332   68667.18655322\n",
      "   41828.24451881   40878.30263608   45739.70724999   39580.91178038\n",
      "   38948.73318678   48556.99952147   48556.99952147   40096.57962842\n",
      "   66962.12349935   30873.1111887    62509.27092406   48556.99952147\n",
      "   48952.80863928   86112.23726598   42398.20405186   40372.53001599\n",
      "   63551.11755116   66813.69508017  122288.2424097    60472.75343668\n",
      "   65972.60070484   80046.69869008   59593.02637313   82216.53291982\n",
      "   29685.68383529   82370.65672474   91771.12327258   84768.71825523\n",
      "   67952.52613431   61793.7306647    80988.7411802    63772.77625372\n",
      "   66741.34463724   96940.39594768  115741.32904336   65530.16314018\n",
      "  104140.15820395  109657.73170955   96449.90277574  104385.57105015\n",
      "  109531.0895816    93978.94348233   98747.25897387  177344.91777554\n",
      "   81310.20401974   46676.9062119    75425.39108528   85466.19975668\n",
      "  101567.39893822  123949.22017203   84994.31266263   38591.38898587\n",
      "   41706.41793615   29685.68383529  112480.17204679   76211.86125513\n",
      "   63004.91216176   44255.42305823   62655.39897035   40036.09226586\n",
      "   52680.22572726   39580.91178038  103725.74300825   69266.59561567\n",
      "   85122.71447147   75867.82864994   76445.0034894   107772.8912378\n",
      "   72678.4814043    97633.06190383  146264.37972066   83784.89084646\n",
      "   91939.57830209  151796.62359931  120344.57789025  105878.93901252\n",
      "  160524.3514131   139197.28749855  134164.51177914  110141.10233532\n",
      "  213564.84043946   88307.79349179   69092.44520042   69686.15887712\n",
      "  101882.31453448   91345.86462538   85315.47096462   91444.81690483\n",
      "   97162.05465023  112371.25615628   77008.62755649   61369.01933748\n",
      "  134164.51177914   64813.74304038  130617.00887526   76266.48546061\n",
      "   91939.57830209   74435.86829077  125716.90319001   75623.29564418\n",
      "   70873.58623053   85320.61903037  101350.88830143  131846.79645022\n",
      "   68150.43069321  113884.98987744   71467.29990724   71245.64120469\n",
      "   88185.08706869   92533.29197879   75425.39108528   71552.39327099\n",
      "   79482.43454277   83341.57344136   73693.72619489   75251.24067003\n",
      "   98098.3737717    96223.97584787   71467.29990724   75844.95434673\n",
      "   93255.40746434   99414.20293395   95215.84697547   98424.68013944\n",
      "  103198.14369674   58603.50357862   49989.50720062   69488.25431822\n",
      "  116737.96775605   75373.06725268  100845.28345267   59371.36767057\n",
      "  109907.41278107   50821.89072601   33643.77501333   28498.25648188\n",
      "   37997.67530917   30820.7873561    61222.8912912    43332.31916646\n",
      "   43015.67187222   41781.61607195   37252.68552041   52642.61266791\n",
      "   65925.97225799  115326.03400722   83119.9147388    85234.57744307\n",
      "   98970.88552885   34831.20236674   53038.42178571   67901.05415925\n",
      "   40989.99783635   42497.15633131   40989.99783635   48381.96926578\n",
      "   59022.18699962  118044.37399925  108141.79398153   81054.82756248\n",
      "   42747.38472281   55855.71405719   48906.18019242   56225.80117892\n",
      "   66519.68593469   85122.71447147   66024.92453744   37601.86619136\n",
      "   63120.16351823   99635.8616365    29887.55208195   21225.26394223\n",
      "   21225.26394223   33542.85488145   25826.5449367    41083.80205004\n",
      "   33542.85488145   34829.23451431   40578.36195041   19938.88430937\n",
      "   23953.49916221   54015.1332763    33542.85488145   33736.79575259\n",
      "   94004.66547841   76008.26131048   78318.76133301   94674.62490269\n",
      "  111094.84013448   82370.65672474   86718.86163484   66741.34463724\n",
      "   76531.92491715   62561.59475665  107994.48155724   48161.19040367\n",
      "   54447.50784168   74919.78623652   88236.86358131   88731.62497856\n",
      "   64342.73578677   66764.21894045  134242.62599093   65728.06769909\n",
      "   48655.95180092   91700.19336209   63993.55511582   65381.73472101\n",
      "   50687.32122254   48684.52148987   87794.42601665  106439.26745499\n",
      "   72305.5465897   103470.69907146   72654.72726065   58856.81581743\n",
      "  108593.01077924   56077.37275975  123604.30772639   90466.13756182\n",
      "   95160.43929556   39976.72089819   45973.22903291   52092.67974519\n",
      "   53824.34463558   49575.09200493   68545.35997057   44044.77557851\n",
      "   93477.06616689  104478.82794386   88377.29624185   81159.47522768\n",
      "  121102.81089162  104478.82794386  104478.82794386  104478.82794386\n",
      "  104478.82794386  114231.32285552   91224.91788317   81063.70316156\n",
      "   99635.8616365    93477.06616689   77847.7540794    87742.9820245\n",
      "  133807.23596134   82213.51745561   61793.7306647    97656.81604748\n",
      "   99635.8616365    59814.68507568   98424.68013944   99064.14242256\n",
      "  104830.85630768   87761.58810239   99635.8616365    99635.8616365\n",
      "   81159.47522768   59371.36767057]\n"
     ]
    }
   ],
   "source": [
    "#Predicting without splitting the dataset into test and train.\n",
    "ypred=results.predict()\n",
    "print(ypred)"
   ]
  },
  {
   "cell_type": "code",
   "execution_count": 13,
   "metadata": {},
   "outputs": [
    {
     "data": {
      "image/png": "[encoded data removed]",
      "text/plain": [
       "<matplotlib.figure.Figure at 0x63967f0438>"
      ]
     },
     "metadata": {},
     "output_type": "display_data"
    }
   ],
   "source": [
    "plt.scatter(y, ypred , color='blue')\n",
    "plt.xlabel(\"Prices of plot: pd\")\n",
    "plt.ylabel(\"Predicted prices of plot :ppd\")\n",
    "plt.show()"
   ]
  },
  {
   "cell_type": "code",
   "execution_count": 14,
   "metadata": {},
   "outputs": [
    {
     "name": "stdout",
     "output_type": "stream",
     "text": [
      "22619.0932506\n"
     ]
    }
   ],
   "source": [
    "#Calculating the root mean squared error of the fit regression line based on independent variables 'x','y','z','carat'\n",
    "from sklearn import metrics\n",
    "rmseFull = np.sqrt(metrics.mean_squared_error(y, ypred))\n",
    "print(rmseFull)"
   ]
  },
  {
   "cell_type": "code",
   "execution_count": 15,
   "metadata": {},
   "outputs": [
    {
     "name": "stdout",
     "output_type": "stream",
     "text": [
      "price    0.33204\n",
      "dtype: float64\n"
     ]
    }
   ],
   "source": [
    "y_m=np.mean(y)\n",
    "print(rmseFull/y_m)\n",
    "# The mean squared error is divided with the mean to calculate the coefficient of variation between the actual and the residual\n",
    "# values. It is just a root mean squared value which helps us to normalize the rsme around the mean."
   ]
  },
  {
   "cell_type": "code",
   "execution_count": 16,
   "metadata": {},
   "outputs": [
    {
     "name": "stdout",
     "output_type": "stream",
     "text": [
      "[ 2186.66007109] [[ 0.04350464]]\n"
     ]
    }
   ],
   "source": [
    "# from sklearn import linear_model\n",
    "\n",
    "X = df[[\"price\"]]\n",
    "y = df[[\"lotsize\"]]\n",
    "\n",
    "# Fit the linear model\n",
    "model = linear_model.LinearRegression()\n",
    "results = model.fit(X, y)\n",
    "\n",
    "# Print the coefficients\n",
    "print (results.intercept_, results.coef_)"
   ]
  },
  {
   "cell_type": "code",
   "execution_count": 17,
   "metadata": {},
   "outputs": [
    {
     "data": {
      "text/html": [
       "<table class=\"simpletable\">\n",
       "<caption>OLS Regression Results</caption>\n",
       "<tr>\n",
       "  <th>Dep. Variable:</th>         <td>lotsize</td>     <th>  R-squared:         </th> <td>   0.872</td> \n",
       "</tr>\n",
       "<tr>\n",
       "  <th>Model:</th>                   <td>OLS</td>       <th>  Adj. R-squared:    </th> <td>   0.872</td> \n",
       "</tr>\n",
       "<tr>\n",
       "  <th>Method:</th>             <td>Least Squares</td>  <th>  F-statistic:       </th> <td>   3729.</td> \n",
       "</tr>\n",
       "<tr>\n",
       "  <th>Date:</th>             <td>Fri, 16 Feb 2018</td> <th>  Prob (F-statistic):</th> <td>6.91e-246</td>\n",
       "</tr>\n",
       "<tr>\n",
       "  <th>Time:</th>                 <td>23:50:20</td>     <th>  Log-Likelihood:    </th> <td> -4923.5</td> \n",
       "</tr>\n",
       "<tr>\n",
       "  <th>No. Observations:</th>      <td>   546</td>      <th>  AIC:               </th> <td>   9849.</td> \n",
       "</tr>\n",
       "<tr>\n",
       "  <th>Df Residuals:</th>          <td>   545</td>      <th>  BIC:               </th> <td>   9853.</td> \n",
       "</tr>\n",
       "<tr>\n",
       "  <th>Df Model:</th>              <td>     1</td>      <th>                     </th>     <td> </td>    \n",
       "</tr>\n",
       "<tr>\n",
       "  <th>Covariance Type:</th>      <td>nonrobust</td>    <th>                     </th>     <td> </td>    \n",
       "</tr>\n",
       "</table>\n",
       "<table class=\"simpletable\">\n",
       "<tr>\n",
       "    <td></td>       <th>coef</th>     <th>std err</th>      <th>t</th>      <th>P>|t|</th>  <th>[0.025</th>    <th>0.975]</th>  \n",
       "</tr>\n",
       "<tr>\n",
       "  <th>price</th> <td>    0.0713</td> <td>    0.001</td> <td>   61.062</td> <td> 0.000</td> <td>    0.069</td> <td>    0.074</td>\n",
       "</tr>\n",
       "</table>\n",
       "<table class=\"simpletable\">\n",
       "<tr>\n",
       "  <th>Omnibus:</th>       <td>81.963</td> <th>  Durbin-Watson:     </th> <td>   1.397</td>\n",
       "</tr>\n",
       "<tr>\n",
       "  <th>Prob(Omnibus):</th> <td> 0.000</td> <th>  Jarque-Bera (JB):  </th> <td> 197.248</td>\n",
       "</tr>\n",
       "<tr>\n",
       "  <th>Skew:</th>          <td> 0.784</td> <th>  Prob(JB):          </th> <td>1.47e-43</td>\n",
       "</tr>\n",
       "<tr>\n",
       "  <th>Kurtosis:</th>      <td> 5.493</td> <th>  Cond. No.          </th> <td>    1.00</td>\n",
       "</tr>\n",
       "</table>"
      ],
      "text/plain": [
       "<class 'statsmodels.iolib.summary.Summary'>\n",
       "\"\"\"\n",
       "                            OLS Regression Results                            \n",
       "==============================================================================\n",
       "Dep. Variable:                lotsize   R-squared:                       0.872\n",
       "Model:                            OLS   Adj. R-squared:                  0.872\n",
       "Method:                 Least Squares   F-statistic:                     3729.\n",
       "Date:                Fri, 16 Feb 2018   Prob (F-statistic):          6.91e-246\n",
       "Time:                        23:50:20   Log-Likelihood:                -4923.5\n",
       "No. Observations:                 546   AIC:                             9849.\n",
       "Df Residuals:                     545   BIC:                             9853.\n",
       "Df Model:                           1                                         \n",
       "Covariance Type:            nonrobust                                         \n",
       "==============================================================================\n",
       "                 coef    std err          t      P>|t|      [0.025      0.975]\n",
       "------------------------------------------------------------------------------\n",
       "price          0.0713      0.001     61.062      0.000       0.069       0.074\n",
       "==============================================================================\n",
       "Omnibus:                       81.963   Durbin-Watson:                   1.397\n",
       "Prob(Omnibus):                  0.000   Jarque-Bera (JB):              197.248\n",
       "Skew:                           0.784   Prob(JB):                     1.47e-43\n",
       "Kurtosis:                       5.493   Cond. No.                         1.00\n",
       "==============================================================================\n",
       "\n",
       "Warnings:\n",
       "[1] Standard Errors assume that the covariance matrix of the errors is correctly specified.\n",
       "\"\"\""
      ]
     },
     "execution_count": 17,
     "metadata": {},
     "output_type": "execute_result"
    }
   ],
   "source": [
    "# import statsmodels.api as sm\n",
    "# Note the swap of X and y\n",
    "model = sm.OLS(y, X)\n",
    "results = model.fit()\n",
    "# Statsmodels gives R-like statistical output\n",
    "results.summary()"
   ]
  },
  {
   "cell_type": "code",
   "execution_count": 18,
   "metadata": {},
   "outputs": [
    {
     "name": "stdout",
     "output_type": "stream",
     "text": [
      "Parameters:  price    0.071336\n",
      "dtype: float64\n",
      "R2:  0.872473138234\n"
     ]
    }
   ],
   "source": [
    "print('Parameters: ', results.params)\n",
    "print('R2: ', results.rsquared)"
   ]
  },
  {
   "cell_type": "code",
   "execution_count": 19,
   "metadata": {},
   "outputs": [
    {
     "data": {
      "text/plain": [
       "[<matplotlib.lines.Line2D at 0x6397b29978>]"
      ]
     },
     "execution_count": 19,
     "metadata": {},
     "output_type": "execute_result"
    },
    {
     "data": {
      "image/png": "[encoded data removed]",
      "text/plain": [
       "<matplotlib.figure.Figure at 0x6397a046a0>"
      ]
     },
     "metadata": {},
     "output_type": "display_data"
    }
   ],
   "source": [
    "X = df[[\"price\"]]\n",
    "y = df[[\"lotsize\"]]\n",
    "plt.plot(X, y, \"o\")"
   ]
  },
  {
   "cell_type": "code",
   "execution_count": 20,
   "metadata": {},
   "outputs": [
    {
     "data": {
      "text/html": [
       "<table class=\"simpletable\">\n",
       "<caption>OLS Regression Results</caption>\n",
       "<tr>\n",
       "  <th>Dep. Variable:</th>         <td>lotsize</td>     <th>  R-squared:         </th> <td>   0.287</td>\n",
       "</tr>\n",
       "<tr>\n",
       "  <th>Model:</th>                   <td>OLS</td>       <th>  Adj. R-squared:    </th> <td>   0.286</td>\n",
       "</tr>\n",
       "<tr>\n",
       "  <th>Method:</th>             <td>Least Squares</td>  <th>  F-statistic:       </th> <td>   219.1</td>\n",
       "</tr>\n",
       "<tr>\n",
       "  <th>Date:</th>             <td>Fri, 16 Feb 2018</td> <th>  Prob (F-statistic):</th> <td>6.77e-42</td>\n",
       "</tr>\n",
       "<tr>\n",
       "  <th>Time:</th>                 <td>23:50:21</td>     <th>  Log-Likelihood:    </th> <td> -4876.0</td>\n",
       "</tr>\n",
       "<tr>\n",
       "  <th>No. Observations:</th>      <td>   546</td>      <th>  AIC:               </th> <td>   9756.</td>\n",
       "</tr>\n",
       "<tr>\n",
       "  <th>Df Residuals:</th>          <td>   544</td>      <th>  BIC:               </th> <td>   9765.</td>\n",
       "</tr>\n",
       "<tr>\n",
       "  <th>Df Model:</th>              <td>     1</td>      <th>                     </th>     <td> </td>   \n",
       "</tr>\n",
       "<tr>\n",
       "  <th>Covariance Type:</th>      <td>nonrobust</td>    <th>                     </th>     <td> </td>   \n",
       "</tr>\n",
       "</table>\n",
       "<table class=\"simpletable\">\n",
       "<tr>\n",
       "    <td></td>       <th>coef</th>     <th>std err</th>      <th>t</th>      <th>P>|t|</th>  <th>[0.025</th>    <th>0.975]</th>  \n",
       "</tr>\n",
       "<tr>\n",
       "  <th>const</th> <td> 2186.6601</td> <td>  215.044</td> <td>   10.168</td> <td> 0.000</td> <td> 1764.242</td> <td> 2609.079</td>\n",
       "</tr>\n",
       "<tr>\n",
       "  <th>price</th> <td>    0.0435</td> <td>    0.003</td> <td>   14.801</td> <td> 0.000</td> <td>    0.038</td> <td>    0.049</td>\n",
       "</tr>\n",
       "</table>\n",
       "<table class=\"simpletable\">\n",
       "<tr>\n",
       "  <th>Omnibus:</th>       <td>177.146</td> <th>  Durbin-Watson:     </th> <td>   1.375</td> \n",
       "</tr>\n",
       "<tr>\n",
       "  <th>Prob(Omnibus):</th> <td> 0.000</td>  <th>  Jarque-Bera (JB):  </th> <td> 547.593</td> \n",
       "</tr>\n",
       "<tr>\n",
       "  <th>Skew:</th>          <td> 1.545</td>  <th>  Prob(JB):          </th> <td>1.23e-119</td>\n",
       "</tr>\n",
       "<tr>\n",
       "  <th>Kurtosis:</th>      <td> 6.811</td>  <th>  Cond. No.          </th> <td>2.01e+05</td> \n",
       "</tr>\n",
       "</table>"
      ],
      "text/plain": [
       "<class 'statsmodels.iolib.summary.Summary'>\n",
       "\"\"\"\n",
       "                            OLS Regression Results                            \n",
       "==============================================================================\n",
       "Dep. Variable:                lotsize   R-squared:                       0.287\n",
       "Model:                            OLS   Adj. R-squared:                  0.286\n",
       "Method:                 Least Squares   F-statistic:                     219.1\n",
       "Date:                Fri, 16 Feb 2018   Prob (F-statistic):           6.77e-42\n",
       "Time:                        23:50:21   Log-Likelihood:                -4876.0\n",
       "No. Observations:                 546   AIC:                             9756.\n",
       "Df Residuals:                     544   BIC:                             9765.\n",
       "Df Model:                           1                                         \n",
       "Covariance Type:            nonrobust                                         \n",
       "==============================================================================\n",
       "                 coef    std err          t      P>|t|      [0.025      0.975]\n",
       "------------------------------------------------------------------------------\n",
       "const       2186.6601    215.044     10.168      0.000    1764.242    2609.079\n",
       "price          0.0435      0.003     14.801      0.000       0.038       0.049\n",
       "==============================================================================\n",
       "Omnibus:                      177.146   Durbin-Watson:                   1.375\n",
       "Prob(Omnibus):                  0.000   Jarque-Bera (JB):              547.593\n",
       "Skew:                           1.545   Prob(JB):                    1.23e-119\n",
       "Kurtosis:                       6.811   Cond. No.                     2.01e+05\n",
       "==============================================================================\n",
       "\n",
       "Warnings:\n",
       "[1] Standard Errors assume that the covariance matrix of the errors is correctly specified.\n",
       "[2] The condition number is large, 2.01e+05. This might indicate that there are\n",
       "strong multicollinearity or other numerical problems.\n",
       "\"\"\""
      ]
     },
     "execution_count": 20,
     "metadata": {},
     "output_type": "execute_result"
    }
   ],
   "source": [
    "import statsmodels.api as sm # import statsmodels \n",
    "\n",
    "X = df[\"price\"] ## X usually means our input variables (or independent variables)\n",
    "y = df[\"lotsize\"] ## Y usually means our output/dependent variable\n",
    "X = sm.add_constant(X) ## let's add an intercept (beta_0) to our model\n",
    "\n",
    "# Note the difference in argument order\n",
    "model = sm.OLS(y, X).fit() ## sm.OLS(output, input)\n",
    "predictions = model.predict(X)\n",
    "\n",
    "# Print out the statistics\n",
    "model.summary()"
   ]
  },
  {
   "cell_type": "code",
   "execution_count": 21,
   "metadata": {},
   "outputs": [
    {
     "data": {
      "image/png": "[encoded data removed]",
      "text/plain": [
       "<matplotlib.figure.Figure at 0x6397b5ee80>"
      ]
     },
     "metadata": {},
     "output_type": "display_data"
    }
   ],
   "source": [
    "Y = df['price']\n",
    "X = df['lotsize']\n",
    " \n",
    "X=X.reshape(len(X),1)\n",
    "Y=Y.reshape(len(Y),1)\n",
    " \n",
    "# Split the data into training/testing sets\n",
    "X_train = X[:-250]\n",
    "X_test = X[-250:]\n",
    " \n",
    "# Split the targets into training/testing sets\n",
    "Y_train = Y[:-250]\n",
    "Y_test = Y[-250:]\n",
    " \n",
    "# Plot outputs\n",
    "plt.scatter(X_test, Y_test,  color='black')\n",
    "plt.title('Test Data')\n",
    "plt.xlabel('Size')\n",
    "plt.ylabel('Price')\n",
    "plt.xticks(())\n",
    "plt.yticks(())\n",
    " \n",
    "plt.show()"
   ]
  },
  {
   "cell_type": "code",
   "execution_count": 22,
   "metadata": {},
   "outputs": [
    {
     "data": {
      "text/plain": [
       "[<matplotlib.lines.Line2D at 0x6397be5ba8>]"
      ]
     },
     "execution_count": 22,
     "metadata": {},
     "output_type": "execute_result"
    },
    {
     "data": {
      "image/png": "[encoded data removed]",
      "text/plain": [
       "<matplotlib.figure.Figure at 0x6397b533c8>"
      ]
     },
     "metadata": {},
     "output_type": "display_data"
    }
   ],
   "source": [
    "# Create linear regression object\n",
    "regr = linear_model.LinearRegression()\n",
    " \n",
    "# Train the model using the training sets\n",
    "regr.fit(X_train, Y_train)\n",
    " \n",
    "# Plot outputs\n",
    "plt.plot(X_test, regr.predict(X_test), color='red',linewidth=3)"
   ]
  },
  {
   "cell_type": "markdown",
   "metadata": {},
   "source": [
    "Is the relationship significant?\n",
    ">Yes, the relationship between the dependent variable 'price' and the independent variables 'lotsize' is significant as we have p-value of zero which shows that the slope is not zero for any random data and the model will predict the price of the lotsize based on the input of the independent variables. \n",
    "\n",
    "Are any model assumptions violated? \n",
    ">The model has been assumed based on the co-relation obtained between the independent and dependent variables. The rsme's calculated are pretty much same even when the data is split into test and train which does not show much of a difference in the R^2 value of the model which plays a crucial role in prediction. Also, since the pvalues are 0, beta1 is never zero. \n",
    "\n",
    "Is there any multi-colinearity in the model? \n",
    ">The co-relation table has shown high co-relation in columns and VIF has been used to check whether all the highly co-related values are required for prediction.\n",
    "\n",
    "In the multivariate models are predictor variables independent of all the other predictor variables? \n",
    ">Well, in this case after the two variables on which the model has been predicted, we can somewhat say that 'price' is independent of the bedroom, bathroom, stories of a plot and vice versa. \n",
    "\n",
    "In in multivariate models rank the most significant predictor variables and exclude insignificant ones from the model. \n",
    ">The sgnificance of the predictor variables in terms of predicting increasing prices of the diamond are as follows: 1) Bedroom 2) Stories\n",
    "\n",
    "Does the model make sense? \n",
    ">Yes, the model makes sense as the final residual plot which shows the original price values and the predicted values are pretty much in sync with each other. Also, there is 85% chance of correct prediction of price whenever new data comes which counts for the proper training of this model. \n",
    "\n",
    "Does regularization help? \n",
    ">We can use ridge and lasso regression as regularization methods to penalise the loss function for high coefficients and performing depends on alpha factor."
   ]
  }
 ],
 "metadata": {
  "kernelspec": {
   "display_name": "Python 3",
   "language": "python",
   "name": "python3"
  },
  "language_info": {
   "codemirror_mode": {
    "name": "ipython",
    "version": 3
   },
   "file_extension": ".py",
   "mimetype": "text/x-python",
   "name": "python",
   "nbconvert_exporter": "python",
   "pygments_lexer": "ipython3",
   "version": "3.6.3"
  }
 },
 "nbformat": 4,
 "nbformat_minor": 2
}
