{
 "cells": [
  {
   "cell_type": "markdown",
   "metadata": {
    "collapsed": true
   },
   "source": [
    "## Assignment 2\n",
    "\n",
    "**Due Friday, February  16, 2018**\n",
    "\n",
    "_Submission: Put the data and Jupyter notebook files in a folder. Make sure all links to data are relative to the folder so the TAs can run the notebooks._   Points will be deducted if the TAs can't run the notebooks.\n",
    "\n",
    "Use the public dataset that you used for cleaning and EDA in Assignment 1. You _MUST_ get approval if you wish to use a _different_ dataset.\n",
    "\n",
    "In this assingment you will cluster your data and create predictive linear and logistic models.\n",
    "\n",
    "* Cluster your data:\n",
    "    * Use at least two methods to cluster your data. (25 points)\n",
    "    \n",
    "Answer the following questions for the clustering:  \n",
    "    * Do the clustering methods generate the same clusters?\n",
    "    * Does scaling effect the clustering?  \n",
    "    * Does the clustering produce interesting groupings?  \n",
    "    \n",
    "* Generate a linear model for your data:\n",
    "    * Find a significant linear relation of your choosing in your data. Create a multivariate linear model. (50 points)  \n",
    "  \n",
    "  \n",
    "Answer the following questions for the multivariate linear model:  \n",
    "    * Is the relationship significant?   \n",
    "    * Are any model assumptions violated?   \n",
    "    * Is there any multi-colinearity in the model?   \n",
    "    * In the multiple regression models are predictor variables independent of all the other predictor variables?   \n",
    "    * In in multiple regression models rank the most significant predictor variables and exclude insignificant ones from the model.   \n",
    "    * Does the model make sense?  \n",
    "    * Cross-validate the model. How well did it do?      \n",
    "    * Does regularization help with creating models that validate better on out of sample data?   \n",
    "    \n",
    "* Generate a logistic model for your data:  \n",
    "\n",
    "    * Find a significant logistic linear model of your choosing in your data. Create a logistic linear model. (25 points)  \n",
    "    \n",
    "Answer the following questions for the logistic linear model:  \n",
    "    * Is the relationship significant?  \n",
    "    * Are any model assumptions violated?   \n",
    "    * Cross-validate the model. How well did it do?   \n",
    "    \n",
    "    \n"
   ]
  },
  {
   "cell_type": "markdown",
   "metadata": {},
   "source": [
    "Last update October 3, 2017"
   ]
  }
 ],
 "metadata": {
  "kernelspec": {
   "display_name": "Python 3",
   "language": "python",
   "name": "python3"
  },
  "language_info": {
   "codemirror_mode": {
    "name": "ipython",
    "version": 3
   },
   "file_extension": ".py",
   "mimetype": "text/x-python",
   "name": "python",
   "nbconvert_exporter": "python",
   "pygments_lexer": "ipython3",
   "version": "3.6.1"
  }
 },
 "nbformat": 4,
 "nbformat_minor": 2
}
